{
 "cells": [
  {
   "cell_type": "markdown",
   "id": "2a8d5693-d422-4f7c-ac41-d65f9f3de6fa",
   "metadata": {},
   "source": [
    "# Artificial Neural Network (ANN) _from Scratch_"
   ]
  },
  {
   "cell_type": "markdown",
   "id": "88a325cd-2786-4349-bca1-812b6609ab7b",
   "metadata": {},
   "source": [
    "## Import required libraries"
   ]
  },
  {
   "cell_type": "code",
   "execution_count": 1,
   "id": "7962a7eb-df7e-4401-9a9f-adf5d78a59db",
   "metadata": {},
   "outputs": [],
   "source": [
    "import numpy as np\n",
    "from abc import ABC, abstractmethod"
   ]
  },
  {
   "cell_type": "code",
   "execution_count": 2,
   "id": "cc204391-d2d1-4d22-add0-bfd1ed355086",
   "metadata": {},
   "outputs": [],
   "source": [
    "np.random.seed(37)"
   ]
  },
  {
   "cell_type": "markdown",
   "id": "a447b467-e3c9-4ec1-b038-beac73fad9bb",
   "metadata": {},
   "source": [
    "## Activation Functions"
   ]
  },
  {
   "cell_type": "code",
   "execution_count": 3,
   "id": "ff19d462-a457-4087-8c47-cb8f37df3c68",
   "metadata": {},
   "outputs": [],
   "source": [
    "class Activation(ABC):\n",
    "\n",
    "    @abstractmethod\n",
    "    def __call__(self, z: np.ndarray) -> np.ndarray:\n",
    "        pass\n",
    "\n",
    "    @abstractmethod\n",
    "    def derivative(self, z: np.ndarray) -> np.ndarray:\n",
    "        pass"
   ]
  },
  {
   "cell_type": "markdown",
   "id": "e117b415-4049-4f91-b02c-68fcc203fabf",
   "metadata": {},
   "source": [
    "### ReLU"
   ]
  },
  {
   "cell_type": "code",
   "execution_count": 4,
   "id": "60521d9b-8974-4ac3-a95c-c5761608ed8c",
   "metadata": {},
   "outputs": [],
   "source": [
    "class ReLU(Activation):\n",
    "    def __call__(self, z: np.ndarray) -> np.ndarray:\n",
    "        return np.maximum(0, z)\n",
    "\n",
    "    def derivative(self, z: np.ndarray) -> np.ndarray:\n",
    "        return (z > 0).astype(float)"
   ]
  },
  {
   "cell_type": "markdown",
   "id": "71eb80b0-0310-4e3d-b9f6-6446c3f0319c",
   "metadata": {},
   "source": [
    "### Sigmoid"
   ]
  },
  {
   "cell_type": "code",
   "execution_count": 5,
   "id": "20d61f54-f184-44c6-8eaf-fdb2e746425c",
   "metadata": {},
   "outputs": [],
   "source": [
    "class Sigmoid(Activation):\n",
    "    def __call__(self, z: np.ndarray) -> np.ndarray:\n",
    "        return 1 / (1 + np.exp(-z))\n",
    "\n",
    "    def derivative(self, z: np.ndarray) -> np.ndarray:\n",
    "        sigmoid = self(x)\n",
    "        return sigmoid * (1 - sigmoid)"
   ]
  },
  {
   "cell_type": "markdown",
   "id": "0126b8fa-2b8a-43e4-8663-86b63769690e",
   "metadata": {},
   "source": [
    "### Softmax"
   ]
  },
  {
   "cell_type": "code",
   "execution_count": 6,
   "id": "e9a091d5-12cd-4bcf-9e02-3ad07fb909ef",
   "metadata": {},
   "outputs": [],
   "source": [
    "class Softmax(Activation):\n",
    "    def __call__(self, z: np.ndarray) -> np.ndarray:\n",
    "        exps = np.exp(z - np.max(z, axis=1, keepdims=True))\n",
    "        return exps / np.sum(exps, axis=1, keepdims=True)\n",
    "\n",
    "    def derivative(self, z: np.ndarray) -> np.ndarray:\n",
    "        z = z.reshape(-1, 1)\n",
    "        return np.diagflat(z) - np.dot(z, z.T)"
   ]
  },
  {
   "cell_type": "markdown",
   "id": "1b8762b3-2306-4a17-af7f-302f37ef169e",
   "metadata": {},
   "source": [
    "### Tanh"
   ]
  },
  {
   "cell_type": "code",
   "execution_count": 7,
   "id": "6056b64e-8362-4a1b-a9a6-ac035dace9ba",
   "metadata": {},
   "outputs": [],
   "source": [
    "class Tanh:\n",
    "    def __call__(self, z: np.ndarray) -> np.ndarray:\n",
    "        return np.tanh(z)\n",
    "\n",
    "    def derivative(self, z: np.ndarray) -> np.ndarray:\n",
    "        tanh = self(z)\n",
    "        return 1 - tanh ** 2"
   ]
  },
  {
   "cell_type": "markdown",
   "id": "545027c2-3957-4e43-9577-8618215762f4",
   "metadata": {},
   "source": [
    "## Loss Functions"
   ]
  },
  {
   "cell_type": "code",
   "execution_count": 9,
   "id": "e3a7b0d1-b472-4218-8269-6d46459b5e6e",
   "metadata": {},
   "outputs": [],
   "source": [
    "class Loss(ABC):\n",
    "    \n",
    "    @abstractmethod\n",
    "    def __call__(self, y_pred: np.ndarray, y_true: np.ndarray) -> np.ndarray:\n",
    "        pass\n",
    "\n",
    "    @abstractmethod\n",
    "    def derivative(self, y_pred: np.ndarray, y_true: np.ndarray) -> np.ndarray:\n",
    "        pass"
   ]
  },
  {
   "cell_type": "markdown",
   "id": "be466794-dd9b-40fe-8a37-ac136f006443",
   "metadata": {},
   "source": [
    "### Mean Squared Error (MSE)"
   ]
  },
  {
   "cell_type": "code",
   "execution_count": 11,
   "id": "bd0646a2-9087-412e-a297-985df869a0e1",
   "metadata": {},
   "outputs": [],
   "source": [
    "class MSE(Loss):\n",
    "    def __call__(self, y_pred: np.ndarray, y_true: np.ndarray) -> np.ndarray:\n",
    "        return np.mean((y_pred - y_true) ** 2) / 2\n",
    "\n",
    "    def derivative(self, y_pred: np.ndarray, y_true: np.ndarray) -> np.ndarray:\n",
    "        return (y_pred - y_true) / y_true.shape[0]"
   ]
  },
  {
   "cell_type": "markdown",
   "id": "43d03321-2d3b-443d-8501-d885cacec4de",
   "metadata": {},
   "source": [
    "## Cross Entropy Loss (Categorical)"
   ]
  },
  {
   "cell_type": "code",
   "execution_count": 12,
   "id": "d629f922-498a-4422-ba3e-467b9f7993fa",
   "metadata": {},
   "outputs": [],
   "source": [
    "class CategoricalCrossEntropy(Loss):\n",
    "    def __call__(self, y_pred: np.ndarray, y_true: np.ndarray) -> np.ndarray:\n",
    "        y_pred = np.clip(y_pred, 1e-9, 1 - 1e-9)  # prevent log(0)\n",
    "        return -np.sum(y_true * np.log(y_pred)) / y_true.shape[0]\n",
    "\n",
    "    def derivative(self, y_pred: np.ndarray, y_true: np.ndarray) -> np.ndarray:\n",
    "        return (y_pred - y_true) / y_true.shape[0]"
   ]
  },
  {
   "cell_type": "markdown",
   "id": "77fa4820-8fc9-4670-a5a3-bad56e8b2872",
   "metadata": {},
   "source": [
    "## Layer"
   ]
  },
  {
   "cell_type": "code",
   "execution_count": 13,
   "id": "b0ccaabd-73c6-4668-b61b-4517465d36d5",
   "metadata": {},
   "outputs": [],
   "source": [
    "class Layer(ABC):\n",
    "    \n",
    "    @abstractmethod\n",
    "    def __init__(self, in_dim: int, out_dim: int):\n",
    "        pass\n",
    "\n",
    "    @abstractmethod\n",
    "    def forward(self, x: np.ndarray) -> np.ndarray:\n",
    "        pass\n",
    "\n",
    "    @abstractmethod\n",
    "    def backward(self, dA: np.ndarray, lr: float) -> np.ndarray:\n",
    "        pass"
   ]
  },
  {
   "cell_type": "markdown",
   "id": "f342cc01-455d-4879-93e5-ed38a1d3c353",
   "metadata": {},
   "source": [
    "### Dense Layer"
   ]
  },
  {
   "cell_type": "code",
   "execution_count": 14,
   "id": "f07bb82b-1de2-4be8-b547-e4ff50f42680",
   "metadata": {},
   "outputs": [],
   "source": [
    "class Dense:\n",
    "    def __init__(self, in_dim: int, out_dim: int, activation: Activation):\n",
    "        self.weights = np.random.random(in_dim, out_dim)\n",
    "        self.bias = np.zeros((1, out_dim))\n",
    "        self.activation = activation\n",
    "\n",
    "        self.x = None\n",
    "        self.z = None\n",
    "\n",
    "    def forward(self, x: np.ndarray) -> np.ndarray:\n",
    "        self.x = x\n",
    "        self.z = self.x @ self.weights + self.bias\n",
    "        return self.activation(self.z)\n",
    "\n",
    "    def backward(self, dA: np.ndarray, lr: np.ndarray) -> np.ndarray:\n",
    "        dz = dA * self.activation.derivative(self.z)\n",
    "        dw = self.x.T @ dz\n",
    "        db = np.sum(dz, axis=0, keepdims=True)\n",
    "\n",
    "        self.weights -= lr * dw\n",
    "        self.bias -= lr * db\n",
    "        return dz @ self.weights.T\n",
    "\n",
    "    @staticmethod\n",
    "    def params_(self):\n",
    "        return np.array([self.weights, self.bias])"
   ]
  },
  {
   "cell_type": "code",
   "execution_count": null,
   "id": "b3dee534-401f-4389-87f1-23fec2419494",
   "metadata": {},
   "outputs": [],
   "source": []
  }
 ],
 "metadata": {
  "kernelspec": {
   "display_name": "Python (Torch)",
   "language": "python",
   "name": "torch"
  },
  "language_info": {
   "codemirror_mode": {
    "name": "ipython",
    "version": 3
   },
   "file_extension": ".py",
   "mimetype": "text/x-python",
   "name": "python",
   "nbconvert_exporter": "python",
   "pygments_lexer": "ipython3",
   "version": "3.10.16"
  }
 },
 "nbformat": 4,
 "nbformat_minor": 5
}
