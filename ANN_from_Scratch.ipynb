{
 "cells": [
  {
   "cell_type": "markdown",
   "id": "2a8d5693-d422-4f7c-ac41-d65f9f3de6fa",
   "metadata": {},
   "source": [
    "# Artificial Neural Network (ANN) _from Scratch_"
   ]
  },
  {
   "cell_type": "markdown",
   "id": "88a325cd-2786-4349-bca1-812b6609ab7b",
   "metadata": {},
   "source": [
    "## Import required libraries"
   ]
  },
  {
   "cell_type": "code",
   "execution_count": 3,
   "id": "7962a7eb-df7e-4401-9a9f-adf5d78a59db",
   "metadata": {},
   "outputs": [],
   "source": [
    "import numpy as np\n",
    "from abc import ABC, abstractmethod"
   ]
  },
  {
   "cell_type": "code",
   "execution_count": 2,
   "id": "cc204391-d2d1-4d22-add0-bfd1ed355086",
   "metadata": {},
   "outputs": [],
   "source": [
    "np.random.seed(37)"
   ]
  },
  {
   "cell_type": "markdown",
   "id": "a447b467-e3c9-4ec1-b038-beac73fad9bb",
   "metadata": {},
   "source": [
    "## Activation Functions"
   ]
  },
  {
   "cell_type": "code",
   "execution_count": 13,
   "id": "ff19d462-a457-4087-8c47-cb8f37df3c68",
   "metadata": {},
   "outputs": [],
   "source": [
    "class Activation(ABC):\n",
    "\n",
    "    @abstractmethod\n",
    "    def __call__(self, z: np.ndarray) -> np.ndarray:\n",
    "        pass\n",
    "\n",
    "    @abstractmethod\n",
    "    def derivative(self, z: np.ndarray) -> np.ndarray:\n",
    "        pass"
   ]
  },
  {
   "cell_type": "markdown",
   "id": "e117b415-4049-4f91-b02c-68fcc203fabf",
   "metadata": {},
   "source": [
    "### ReLU"
   ]
  },
  {
   "cell_type": "code",
   "execution_count": 14,
   "id": "60521d9b-8974-4ac3-a95c-c5761608ed8c",
   "metadata": {},
   "outputs": [],
   "source": [
    "class ReLU(Activation):\n",
    "    def __call__(self, z: np.ndarray) -> np.ndarray:\n",
    "        return np.maximum(0, z)\n",
    "\n",
    "    def derivative(self, z: np.ndarray) -> np.ndarray:\n",
    "        return (z > 0).astype(float)"
   ]
  },
  {
   "cell_type": "markdown",
   "id": "71eb80b0-0310-4e3d-b9f6-6446c3f0319c",
   "metadata": {},
   "source": [
    "### Sigmoid"
   ]
  },
  {
   "cell_type": "code",
   "execution_count": 15,
   "id": "20d61f54-f184-44c6-8eaf-fdb2e746425c",
   "metadata": {},
   "outputs": [],
   "source": [
    "class Sigmoid(Activation):\n",
    "    def __call__(self, z: np.ndarray) -> np.ndarray:\n",
    "        return 1 / (1 + np.exp(-z))\n",
    "\n",
    "    def derivative(self, z: np.ndarray) -> np.ndarray:\n",
    "        sigmoid = self(x)\n",
    "        return sigmoid * (1 - sigmoid)"
   ]
  },
  {
   "cell_type": "markdown",
   "id": "0126b8fa-2b8a-43e4-8663-86b63769690e",
   "metadata": {},
   "source": [
    "### Softmax"
   ]
  },
  {
   "cell_type": "code",
   "execution_count": 16,
   "id": "e9a091d5-12cd-4bcf-9e02-3ad07fb909ef",
   "metadata": {},
   "outputs": [],
   "source": [
    "class Softmax(Activation):\n",
    "    def __call__(self, z: np.ndarray) -> np.ndarray:\n",
    "        exps = np.exp(z - np.max(z, axis=1, keepdims=True))\n",
    "        return exps / np.sum(exps, axis=1, keepdims=True)\n",
    "\n",
    "    def derivative(self, z: np.ndarray) -> np.ndarray:\n",
    "        z = z.reshape(-1, 1)\n",
    "        return np.diagflat(z) - np.dot(z, z.T)"
   ]
  },
  {
   "cell_type": "markdown",
   "id": "1b8762b3-2306-4a17-af7f-302f37ef169e",
   "metadata": {},
   "source": [
    "### Tanh"
   ]
  },
  {
   "cell_type": "code",
   "execution_count": null,
   "id": "6056b64e-8362-4a1b-a9a6-ac035dace9ba",
   "metadata": {},
   "outputs": [],
   "source": [
    "class Tanh:\n",
    "    def __call__(self, z: np.ndarray) -> np.ndarray:\n",
    "        return np.tanh(z)\n",
    "\n",
    "    def derivative(self, z: np.ndarray) -> "
   ]
  }
 ],
 "metadata": {
  "kernelspec": {
   "display_name": "Python (Torch)",
   "language": "python",
   "name": "torch"
  },
  "language_info": {
   "codemirror_mode": {
    "name": "ipython",
    "version": 3
   },
   "file_extension": ".py",
   "mimetype": "text/x-python",
   "name": "python",
   "nbconvert_exporter": "python",
   "pygments_lexer": "ipython3",
   "version": "3.10.16"
  }
 },
 "nbformat": 4,
 "nbformat_minor": 5
}
