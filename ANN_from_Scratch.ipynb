{
 "cells": [
  {
   "cell_type": "markdown",
   "id": "2a8d5693-d422-4f7c-ac41-d65f9f3de6fa",
   "metadata": {},
   "source": [
    "# Artificial Neural Network (ANN) _from Scratch_"
   ]
  },
  {
   "cell_type": "markdown",
   "id": "88a325cd-2786-4349-bca1-812b6609ab7b",
   "metadata": {},
   "source": [
    "## Import required libraries"
   ]
  },
  {
   "cell_type": "code",
   "execution_count": 214,
   "id": "7962a7eb-df7e-4401-9a9f-adf5d78a59db",
   "metadata": {},
   "outputs": [],
   "source": [
    "import numpy as np\n",
    "from abc import ABC, abstractmethod\n",
    "# for data, training, prediction & evaluation\n",
    "import matplotlib.pyplot as plt\n",
    "from sklearn.model_selection import train_test_split\n",
    "from sklearn.datasets import fetch_california_housing, load_iris\n",
    "from sklearn.preprocessing import OrdinalEncoder, OneHotEncoder, StandardScaler\n",
    "from sklearn.metrics import mean_squared_error, accuracy_score, classification_report, confusion_matrix, ConfusionMatrixDisplay"
   ]
  },
  {
   "cell_type": "code",
   "execution_count": 2,
   "id": "cc204391-d2d1-4d22-add0-bfd1ed355086",
   "metadata": {},
   "outputs": [],
   "source": [
    "np.random.seed(37)"
   ]
  },
  {
   "cell_type": "markdown",
   "id": "a447b467-e3c9-4ec1-b038-beac73fad9bb",
   "metadata": {},
   "source": [
    "## Activation Functions"
   ]
  },
  {
   "cell_type": "code",
   "execution_count": 3,
   "id": "ff19d462-a457-4087-8c47-cb8f37df3c68",
   "metadata": {},
   "outputs": [],
   "source": [
    "class Activation(ABC):\n",
    "\n",
    "    @abstractmethod\n",
    "    def __call__(self, z: np.ndarray) -> np.ndarray:\n",
    "        pass\n",
    "\n",
    "    @abstractmethod\n",
    "    def derivative(self, z: np.ndarray) -> np.ndarray:\n",
    "        pass"
   ]
  },
  {
   "cell_type": "markdown",
   "id": "9318edbd-5c6b-444b-bc16-d9b323d3c79a",
   "metadata": {},
   "source": [
    "### Linear"
   ]
  },
  {
   "cell_type": "code",
   "execution_count": 29,
   "id": "ac1c03b1-aec9-49ec-a0f3-c6d40deed9cb",
   "metadata": {},
   "outputs": [],
   "source": [
    "class Linear(Activation):\n",
    "    def __call__(self, x: np.ndarray) -> np.ndarray:\n",
    "        return x\n",
    "\n",
    "    def derivative(self, z: np.ndarray) -> np.ndarray:\n",
    "        return np.ones_like(z)"
   ]
  },
  {
   "cell_type": "markdown",
   "id": "e117b415-4049-4f91-b02c-68fcc203fabf",
   "metadata": {},
   "source": [
    "### ReLU"
   ]
  },
  {
   "cell_type": "code",
   "execution_count": 4,
   "id": "60521d9b-8974-4ac3-a95c-c5761608ed8c",
   "metadata": {},
   "outputs": [],
   "source": [
    "class ReLU(Activation):\n",
    "    def __call__(self, z: np.ndarray) -> np.ndarray:\n",
    "        return np.maximum(0, z)\n",
    "\n",
    "    def derivative(self, z: np.ndarray) -> np.ndarray:\n",
    "        return (z > 0).astype(float)"
   ]
  },
  {
   "cell_type": "markdown",
   "id": "71eb80b0-0310-4e3d-b9f6-6446c3f0319c",
   "metadata": {},
   "source": [
    "### Sigmoid"
   ]
  },
  {
   "cell_type": "code",
   "execution_count": 5,
   "id": "20d61f54-f184-44c6-8eaf-fdb2e746425c",
   "metadata": {},
   "outputs": [],
   "source": [
    "class Sigmoid(Activation):\n",
    "    def __call__(self, z: np.ndarray) -> np.ndarray:\n",
    "        return 1 / (1 + np.exp(-z))\n",
    "\n",
    "    def derivative(self, z: np.ndarray) -> np.ndarray:\n",
    "        sigmoid = self(x)\n",
    "        return sigmoid * (1 - sigmoid)"
   ]
  },
  {
   "cell_type": "markdown",
   "id": "0126b8fa-2b8a-43e4-8663-86b63769690e",
   "metadata": {},
   "source": [
    "### Softmax"
   ]
  },
  {
   "cell_type": "code",
   "execution_count": 6,
   "id": "e9a091d5-12cd-4bcf-9e02-3ad07fb909ef",
   "metadata": {},
   "outputs": [],
   "source": [
    "class Softmax(Activation):\n",
    "    def __call__(self, z: np.ndarray) -> np.ndarray:\n",
    "        exps = np.exp(z - np.max(z, axis=1, keepdims=True))\n",
    "        return exps / np.sum(exps, axis=1, keepdims=True)\n",
    "\n",
    "    def derivative(self, z: np.ndarray) -> np.ndarray:\n",
    "        z = z.reshape(-1, 1)\n",
    "        return np.diagflat(z) - np.dot(z, z.T)"
   ]
  },
  {
   "cell_type": "markdown",
   "id": "1b8762b3-2306-4a17-af7f-302f37ef169e",
   "metadata": {},
   "source": [
    "### Tanh"
   ]
  },
  {
   "cell_type": "code",
   "execution_count": 7,
   "id": "6056b64e-8362-4a1b-a9a6-ac035dace9ba",
   "metadata": {},
   "outputs": [],
   "source": [
    "class Tanh:\n",
    "    def __call__(self, z: np.ndarray) -> np.ndarray:\n",
    "        return np.tanh(z)\n",
    "\n",
    "    def derivative(self, z: np.ndarray) -> np.ndarray:\n",
    "        tanh = self(z)\n",
    "        return 1 - tanh ** 2"
   ]
  },
  {
   "cell_type": "markdown",
   "id": "545027c2-3957-4e43-9577-8618215762f4",
   "metadata": {},
   "source": [
    "## Loss Functions"
   ]
  },
  {
   "cell_type": "code",
   "execution_count": 8,
   "id": "e3a7b0d1-b472-4218-8269-6d46459b5e6e",
   "metadata": {},
   "outputs": [],
   "source": [
    "class Loss(ABC):\n",
    "    \n",
    "    @abstractmethod\n",
    "    def __call__(self, y_pred: np.ndarray, y_true: np.ndarray) -> np.ndarray:\n",
    "        pass\n",
    "\n",
    "    @abstractmethod\n",
    "    def derivative(self, y_pred: np.ndarray, y_true: np.ndarray) -> np.ndarray:\n",
    "        pass"
   ]
  },
  {
   "cell_type": "markdown",
   "id": "be466794-dd9b-40fe-8a37-ac136f006443",
   "metadata": {},
   "source": [
    "### Mean Squared Error (MSE)"
   ]
  },
  {
   "cell_type": "code",
   "execution_count": 9,
   "id": "bd0646a2-9087-412e-a297-985df869a0e1",
   "metadata": {},
   "outputs": [],
   "source": [
    "class MSE(Loss):\n",
    "    def __call__(self, y_pred: np.ndarray, y_true: np.ndarray) -> np.ndarray:\n",
    "        return np.mean((y_pred - y_true) ** 2) / 2\n",
    "\n",
    "    def derivative(self, y_pred: np.ndarray, y_true: np.ndarray) -> np.ndarray:\n",
    "        return (y_pred - y_true) / y_true.shape[0]"
   ]
  },
  {
   "cell_type": "markdown",
   "id": "43d03321-2d3b-443d-8501-d885cacec4de",
   "metadata": {},
   "source": [
    "## Cross Entropy Loss (Sparse Categorical)\n",
    "_basically one hot encoded_"
   ]
  },
  {
   "cell_type": "code",
   "execution_count": 181,
   "id": "d629f922-498a-4422-ba3e-467b9f7993fa",
   "metadata": {},
   "outputs": [],
   "source": [
    "class SparseCategoricalCrossEntropy(Loss):\n",
    "    def __call__(self, y_pred: np.ndarray, y_true: np.ndarray) -> np.ndarray:\n",
    "        y_pred = np.clip(y_pred, 1e-9, 1 - 1e-9)  # prevent log(0)\n",
    "        return -np.sum(y_true * np.log(y_pred)) / y_true.shape[0]\n",
    "\n",
    "    def derivative(self, y_pred: np.ndarray, y_true: np.ndarray) -> np.ndarray:\n",
    "        return (y_pred - y_true) / y_true.shape[0]"
   ]
  },
  {
   "cell_type": "markdown",
   "id": "77fa4820-8fc9-4670-a5a3-bad56e8b2872",
   "metadata": {},
   "source": [
    "## Layer"
   ]
  },
  {
   "cell_type": "code",
   "execution_count": 11,
   "id": "b0ccaabd-73c6-4668-b61b-4517465d36d5",
   "metadata": {},
   "outputs": [],
   "source": [
    "class Layer(ABC):\n",
    "    \n",
    "    @abstractmethod\n",
    "    def __init__(self, in_dim: int, out_dim: int):\n",
    "        pass\n",
    "\n",
    "    @abstractmethod\n",
    "    def forward(self, x: np.ndarray) -> np.ndarray:\n",
    "        pass\n",
    "\n",
    "    @abstractmethod\n",
    "    def backward(self, dA: np.ndarray, lr: float) -> np.ndarray:\n",
    "        pass"
   ]
  },
  {
   "cell_type": "markdown",
   "id": "f342cc01-455d-4879-93e5-ed38a1d3c353",
   "metadata": {},
   "source": [
    "### Dense Layer"
   ]
  },
  {
   "cell_type": "code",
   "execution_count": 174,
   "id": "f07bb82b-1de2-4be8-b547-e4ff50f42680",
   "metadata": {},
   "outputs": [],
   "source": [
    "class Dense(Layer):\n",
    "    def __init__(self, in_dim: int, out_dim: int, activation: Activation):\n",
    "        self.weights = np.random.random((in_dim, out_dim)) * np.sqrt(1 / in_dim)\n",
    "        self.bias = np.zeros((1, out_dim))\n",
    "        self.activation = activation\n",
    "        self.x = None\n",
    "        self.z = None\n",
    "\n",
    "    def forward(self, x: np.ndarray) -> np.ndarray:\n",
    "        self.x = x\n",
    "        self.z = self.x @ self.weights + self.bias\n",
    "        return self.activation(self.z)\n",
    "\n",
    "    def backward(self, dA: np.ndarray, lr: np.ndarray) -> np.ndarray:\n",
    "        if isinstance(self.activation, Softmax):\n",
    "            dz = dA\n",
    "        else:\n",
    "            dz = dA * self.activation.derivative(self.z)\n",
    "        dw = self.x.T @ dz\n",
    "        db = np.sum(dz, axis=0, keepdims=True)\n",
    "\n",
    "        # prevent exploding gradients\n",
    "        np.clip(dw, -1, 1, out=dw)\n",
    "        np.clip(db, -1, 1, out=db)\n",
    "\n",
    "        self.weights -= lr * dw\n",
    "        self.bias -= lr * db\n",
    "        return dz @ self.weights.T\n",
    "\n",
    "    @property\n",
    "    def params_(self):\n",
    "        return (self.weights, self.bias)"
   ]
  },
  {
   "cell_type": "markdown",
   "id": "acc1bc1c-0726-498a-a970-3fa88b9b589f",
   "metadata": {},
   "source": [
    "## Neural Network"
   ]
  },
  {
   "cell_type": "code",
   "execution_count": 175,
   "id": "3435bbca-c658-47b3-9c6a-58c3acf9f809",
   "metadata": {},
   "outputs": [],
   "source": [
    "class NeuralNetwork:\n",
    "    def __init__(self, layers: list[Layer], loss: Loss):\n",
    "        self.layers = layers\n",
    "        self.loss_fn = loss\n",
    "\n",
    "    def add(self, layer: Layer):\n",
    "        self.layers.append(layer)\n",
    "\n",
    "    def forward(self, x: np.ndarray) -> np.ndarray:\n",
    "        for layer in self.layers:\n",
    "            x = layer.forward(x)\n",
    "        return x\n",
    "\n",
    "    def backward(self, y_pred: np.ndarray, y_true: np.ndarray, lr: float):\n",
    "        dA = self.loss_fn.derivative(y_pred, y_true)\n",
    "        for layer in reversed(self.layers):\n",
    "            dA = layer.backward(dA, lr)\n",
    "\n",
    "    def fit(\n",
    "        self,\n",
    "        X: np.ndarray,\n",
    "        y: np.ndarray,\n",
    "        val_X: np.ndarray = None,\n",
    "        val_y: np.ndarray = None,\n",
    "        n_iters: int = 100,\n",
    "        lr: float = 0.01,\n",
    "        verbose: bool = True\n",
    "    ):\n",
    "        self.history = []\n",
    "        epoch_10pct = 1 if n_iters < 10 else int(n_iters * 0.1)\n",
    "\n",
    "        for epoch in range(1, n_iters + 1):\n",
    "            y_pred = self.forward(X)\n",
    "            train_loss = self.loss_fn(y_pred, y)\n",
    "            self.backward(y_pred, y, lr)\n",
    "\n",
    "            if val_X is not None and val_y is not None:\n",
    "                y_val_pred = self.forward(val_X)\n",
    "                val_loss = self.loss_fn(y_val_pred, val_y)\n",
    "\n",
    "            self.history.append(train_loss if val_X is None else (train_loss, val_loss))\n",
    "\n",
    "            if verbose and epoch % epoch_10pct == 0:\n",
    "                l = len(str(n_iters))\n",
    "                print(\n",
    "                    f\"Epoch {epoch:{len(str(n_iters))}d} | Train Loss: {train_loss:.4f}\" +\n",
    "                    (\"\" if val_X is None else f\" | Val Loss: {val_loss:.4f}\")\n",
    "                     )\n",
    "        return self.history\n",
    "\n",
    "    def predict(self, x: np.ndarray) -> np.ndarray:\n",
    "        return self.forward(x)\n",
    "\n",
    "    @property\n",
    "    def params_(self) -> np.ndarray:\n",
    "        return [layer.params_ for layer in self.layers]\n",
    "\n",
    "    def summary(self):\n",
    "        print(\"Model Summary:\")\n",
    "        print(\"-\" * 60)\n",
    "        total_params = 0\n",
    "\n",
    "        for i, layer in enumerate(self.layers, start=1):\n",
    "            name = layer.__class__.__name__\n",
    "            w_shape = layer.weights.shape\n",
    "            b_shape = layer.bias.shape\n",
    "            num_params = np.prod(w_shape) + np.prod(b_shape)\n",
    "            total_params += num_params\n",
    "            print(f\"{name} layer {i}: Params: {num_params}\"\n",
    "                  f\" ({w_shape[0]} x {w_shape[1]} + {b_shape[1]})\")\n",
    "\n",
    "        print(\"-\" * 60)\n",
    "        print(f\"Total Layers: {i}\")\n",
    "        print(f\"Total Trainable Parameters: {total_params}\")\n",
    "        print(\"-\" * 60)\n"
   ]
  },
  {
   "cell_type": "markdown",
   "id": "7ac12a9d-15a7-4f7c-9390-afbc89617db5",
   "metadata": {},
   "source": [
    "## Regression"
   ]
  },
  {
   "cell_type": "markdown",
   "id": "1188911b-5bac-4e6e-a6cc-c49bb4eca3ab",
   "metadata": {},
   "source": [
    "### Loading data"
   ]
  },
  {
   "cell_type": "code",
   "execution_count": 134,
   "id": "4031506d-3c08-4310-ada1-fba67d1de944",
   "metadata": {},
   "outputs": [],
   "source": [
    "def get_regression_data():\n",
    "    data = fetch_california_housing()\n",
    "    X = data.data\n",
    "    y = data.target.reshape(-1, 1)\n",
    "    X_train, X_valid, y_train, y_valid = train_test_split(X, y, test_size=0.2, random_state=37)\n",
    "    std_scaler = StandardScaler()\n",
    "    X_train = std_scaler.fit_transform(X_train)\n",
    "    X_valid = std_scaler.transform(X_valid)\n",
    "    return X_train, X_valid, y_train, y_valid"
   ]
  },
  {
   "cell_type": "code",
   "execution_count": 24,
   "id": "4816cc3f-1217-4a73-9ae1-b5b7ad69d148",
   "metadata": {},
   "outputs": [],
   "source": [
    "reg_X_train, reg_X_valid, reg_y_train, reg_y_valid = get_regression_data()"
   ]
  },
  {
   "cell_type": "code",
   "execution_count": 27,
   "id": "efd014c8-ebac-4438-80cd-057bc9baa85b",
   "metadata": {},
   "outputs": [
    {
     "data": {
      "text/plain": [
       "(array([[-0.89124829, -0.36761251, -0.6904722 , -0.09031418,  1.60447517,\n",
       "          0.13091549,  0.4926943 , -1.02618438],\n",
       "        [-0.85477403,  1.85659377,  0.10268202,  0.14319063,  0.26491483,\n",
       "         -0.05643004,  2.66342955, -1.25516802],\n",
       "        [-0.55223682,  0.42674687, -0.54193486, -0.01740771,  0.25960964,\n",
       "          0.06925411, -0.85465861,  0.85048591],\n",
       "        [-0.26322024,  0.58561875, -0.10750713,  0.07788551, -1.0790665 ,\n",
       "          0.21733708, -0.89676339,  0.85048591],\n",
       "        [-0.74891483, -1.40027972, -0.50819229, -0.11217215,  0.59914177,\n",
       "         -0.02915816,  1.16169245, -0.84697979]]),\n",
       " array([[1.085],\n",
       "        [0.629],\n",
       "        [1.531],\n",
       "        [1.575],\n",
       "        [1.03 ]]))"
      ]
     },
     "execution_count": 27,
     "metadata": {},
     "output_type": "execute_result"
    }
   ],
   "source": [
    "reg_X_train[:5], reg_y_train[:5]"
   ]
  },
  {
   "cell_type": "code",
   "execution_count": 84,
   "id": "8e12c6ef-cb1e-4b3f-baf2-289540332763",
   "metadata": {},
   "outputs": [
    {
     "data": {
      "text/plain": [
       "((4128, 8), (4128, 1))"
      ]
     },
     "execution_count": 84,
     "metadata": {},
     "output_type": "execute_result"
    }
   ],
   "source": [
    "reg_X_valid.shape, reg_y_valid.shape"
   ]
  },
  {
   "cell_type": "markdown",
   "id": "8cc7da76-8776-4312-babb-c0a4c9a48b87",
   "metadata": {},
   "source": [
    "### Training"
   ]
  },
  {
   "cell_type": "code",
   "execution_count": 135,
   "id": "b5fb4b80-b22c-48dd-accd-277b4fc23bdf",
   "metadata": {},
   "outputs": [
    {
     "name": "stdout",
     "output_type": "stream",
     "text": [
      "Model Summary:\n",
      "------------------------------------------------------------\n",
      "Dense layer 1: Params: 90 (8 x 10 + 10)\n",
      "Dense layer 2: Params: 176 (10 x 16 + 16)\n",
      "Dense layer 3: Params: 544 (16 x 32 + 32)\n",
      "Dense layer 4: Params: 528 (32 x 16 + 16)\n",
      "Dense layer 5: Params: 17 (16 x 1 + 1)\n",
      "------------------------------------------------------------\n",
      "Total Layers: 5\n",
      "Total Trainable Parameters: 1355\n",
      "------------------------------------------------------------\n"
     ]
    }
   ],
   "source": [
    "NN_reg = NeuralNetwork([\n",
    "    Dense(reg_X_train.shape[1], 10, ReLU()),\n",
    "    Dense(10, 16, ReLU()),\n",
    "    Dense(16, 32, ReLU()),\n",
    "    Dense(32, 16, ReLU()),\n",
    "    Dense(16, 1, Linear())\n",
    "],\n",
    "    loss=MSE())\n",
    "\n",
    "NN_reg.summary()"
   ]
  },
  {
   "cell_type": "code",
   "execution_count": 136,
   "id": "c57fcc1b-c860-4b47-88df-082318aa4bb5",
   "metadata": {},
   "outputs": [
    {
     "name": "stdout",
     "output_type": "stream",
     "text": [
      "Epoch  10 | Train Loss: 2.0374 | Val Loss: 1.8153\n",
      "Epoch  20 | Train Loss: 1.5232 | Val Loss: 1.2937\n",
      "Epoch  30 | Train Loss: 1.0925 | Val Loss: 0.9108\n",
      "Epoch  40 | Train Loss: 0.8338 | Val Loss: 0.7121\n",
      "Epoch  50 | Train Loss: 0.6904 | Val Loss: 0.6135\n",
      "Epoch  60 | Train Loss: 0.6071 | Val Loss: 0.5586\n",
      "Epoch  70 | Train Loss: 0.5586 | Val Loss: 0.5241\n",
      "Epoch  80 | Train Loss: 0.5262 | Val Loss: 0.4996\n",
      "Epoch  90 | Train Loss: 0.5033 | Val Loss: 0.4811\n",
      "Epoch 100 | Train Loss: 0.4868 | Val Loss: 0.4666\n"
     ]
    }
   ],
   "source": [
    "history = NN_reg.fit(\n",
    "    reg_X_train,\n",
    "    reg_y_train,\n",
    "    reg_X_valid,\n",
    "    reg_y_valid,\n",
    "    n_iters=100\n",
    ")"
   ]
  },
  {
   "cell_type": "markdown",
   "id": "b9052c55-f748-4598-95f8-bcf7826fdeb8",
   "metadata": {},
   "source": [
    "### Evaluation"
   ]
  },
  {
   "cell_type": "code",
   "execution_count": 129,
   "id": "a118fe09-6029-4a90-bc48-9f46e459fcd1",
   "metadata": {},
   "outputs": [],
   "source": [
    "def plot_training_history(history, title=\"Training History\", n_clip=10):\n",
    "    \"\"\"\n",
    "    history: List of tuples (train_loss val_loss)\n",
    "    \"\"\"\n",
    "    train_loss = [h[0] for h in history[n_clip:]]\n",
    "    val_loss = [h[1] for h in history[n_clip:]]\n",
    "    epochs = range(1, len(history) + 1 - n_clip)\n",
    "    # Plot Loss\n",
    "    plt.plot(epochs, train_loss, label=\"Train Loss\", marker='o')\n",
    "    plt.plot(epochs, val_loss,   label=\"Val Loss\", marker='s')\n",
    "    plt.xlabel(\"Epoch\")\n",
    "    plt.ylabel(\"Loss\")\n",
    "    plt.legend()\n",
    "    plt.grid(True)\n",
    "    plt.title(title)\n",
    "    plt.tight_layout()\n",
    "    plt.show()"
   ]
  },
  {
   "cell_type": "code",
   "execution_count": 137,
   "id": "0c948490-9ee5-4c4c-a443-699efd7bfd0d",
   "metadata": {},
   "outputs": [
    {
     "data": {
      "image/png": "[encoded data removed]",
      "text/plain": [
       "<Figure size 640x480 with 1 Axes>"
      ]
     },
     "metadata": {},
     "output_type": "display_data"
    }
   ],
   "source": [
    "plot_training_history(history)"
   ]
  },
  {
   "cell_type": "markdown",
   "id": "0c91efcf-b5ff-416e-a8ca-024570119b27",
   "metadata": {},
   "source": [
    "### Prediction"
   ]
  },
  {
   "cell_type": "code",
   "execution_count": 142,
   "id": "dd6d5411-f7f3-43d1-8908-809471135eec",
   "metadata": {},
   "outputs": [
    {
     "data": {
      "text/plain": [
       "((array([[1.4421702 ],\n",
       "         [3.66292041],\n",
       "         [1.65140675],\n",
       "         [1.9326183 ],\n",
       "         [1.41619463]]),\n",
       "  array([[1.602],\n",
       "         [3.671],\n",
       "         [2.246],\n",
       "         [2.314],\n",
       "         [0.668]])),\n",
       " np.float64(0.10843991764068758))"
      ]
     },
     "execution_count": 142,
     "metadata": {},
     "output_type": "execute_result"
    }
   ],
   "source": [
    "reg_y_preds = NN_reg.predict(reg_X_valid[10:15, :])\n",
    "_ = reg_y_preds, reg_y_valid[10:15]\n",
    "_, MSE()(*_)"
   ]
  },
  {
   "cell_type": "markdown",
   "id": "032d6435-bf93-43dc-b13e-9597bee9ec48",
   "metadata": {},
   "source": [
    "## Classification - Iris Dataset"
   ]
  },
  {
   "cell_type": "markdown",
   "id": "484467e5-cf18-4cb1-941e-9687566d5f8b",
   "metadata": {},
   "source": [
    "### Loading data"
   ]
  },
  {
   "cell_type": "code",
   "execution_count": 182,
   "id": "f3d3f0d4-c47f-438d-a795-3e2b5e538b72",
   "metadata": {},
   "outputs": [],
   "source": [
    "def get_classification_data():\n",
    "    data = load_iris()\n",
    "    X = data.data\n",
    "    y = data.target.reshape(-1, 1)\n",
    "    X_train, X_valid, y_train, y_valid = train_test_split(X, y, test_size=0.2, random_state=37)\n",
    "\n",
    "    std_scaler = StandardScaler()\n",
    "    X_train = std_scaler.fit_transform(X_train)\n",
    "    X_valid = std_scaler.transform(X_valid)\n",
    "\n",
    "    ohe = OneHotEncoder(sparse_output=False)\n",
    "    y_train = ohe.fit_transform(y_train)\n",
    "    y_valid = ohe.transform(y_valid)\n",
    "    return X_train, X_valid, y_train, y_valid"
   ]
  },
  {
   "cell_type": "code",
   "execution_count": 183,
   "id": "485fced9-3a1f-4771-8008-4bddc28d22a3",
   "metadata": {},
   "outputs": [],
   "source": [
    "X_train, X_valid, y_train, y_valid = get_classification_data()"
   ]
  },
  {
   "cell_type": "code",
   "execution_count": 184,
   "id": "7740076c-6a34-479f-8afb-589712bd1a86",
   "metadata": {},
   "outputs": [
    {
     "data": {
      "text/plain": [
       "(array([[-1.47543632,  0.11231791, -1.25270429, -1.28705161],\n",
       "        [ 0.53786809, -1.21340167,  0.72673816,  0.95703838],\n",
       "        [-0.17270994, -0.99244841, -0.12159432, -0.23100926],\n",
       "        [-1.00171763,  0.99613096, -1.36581529, -1.15504632],\n",
       "        [ 0.53786809,  0.7751777 ,  1.06607115,  1.61706485]]),\n",
       " array([[1., 0., 0.],\n",
       "        [0., 0., 1.],\n",
       "        [0., 1., 0.],\n",
       "        [1., 0., 0.],\n",
       "        [0., 0., 1.]]))"
      ]
     },
     "execution_count": 184,
     "metadata": {},
     "output_type": "execute_result"
    }
   ],
   "source": [
    "X_train[:5], y_train[:5]"
   ]
  },
  {
   "cell_type": "code",
   "execution_count": 185,
   "id": "9d541f84-ad4a-45e0-b230-eb06638ea043",
   "metadata": {},
   "outputs": [
    {
     "data": {
      "text/plain": [
       "((120, 4), (120, 3), (30, 4), (30, 3))"
      ]
     },
     "execution_count": 185,
     "metadata": {},
     "output_type": "execute_result"
    }
   ],
   "source": [
    "X_train.shape, y_train.shape, X_valid.shape, y_valid.shape"
   ]
  },
  {
   "cell_type": "markdown",
   "id": "72214097-7b15-4980-95d7-65d7a2ee751b",
   "metadata": {},
   "source": [
    "### Training"
   ]
  },
  {
   "cell_type": "code",
   "execution_count": 203,
   "id": "46e29d2f-fed3-4ef9-8094-4db72620f67a",
   "metadata": {},
   "outputs": [
    {
     "name": "stdout",
     "output_type": "stream",
     "text": [
      "Model Summary:\n",
      "------------------------------------------------------------\n",
      "Dense layer 1: Params: 40 (4 x 8 + 8)\n",
      "Dense layer 2: Params: 144 (8 x 16 + 16)\n",
      "Dense layer 3: Params: 1088 (16 x 64 + 64)\n",
      "Dense layer 4: Params: 650 (64 x 10 + 10)\n",
      "Dense layer 5: Params: 33 (10 x 3 + 3)\n",
      "------------------------------------------------------------\n",
      "Total Layers: 5\n",
      "Total Trainable Parameters: 1955\n",
      "------------------------------------------------------------\n"
     ]
    }
   ],
   "source": [
    "NN_clf = NeuralNetwork([\n",
    "    Dense(X_train.shape[1], 8, ReLU()),\n",
    "    Dense(8, 16, ReLU()),\n",
    "    Dense(16, 64, ReLU()),\n",
    "    Dense(64, 10, ReLU()),\n",
    "    Dense(10, 3, Softmax())\n",
    "],\n",
    "    loss=SparseCategoricalCrossEntropy())\n",
    "\n",
    "NN_clf.summary()"
   ]
  },
  {
   "cell_type": "code",
   "execution_count": 204,
   "id": "78ff70a1-3f98-44ca-8c23-8be74d62278e",
   "metadata": {},
   "outputs": [
    {
     "name": "stdout",
     "output_type": "stream",
     "text": [
      "Epoch  50 | Train Loss: 0.8683 | Val Loss: 0.7385\n",
      "Epoch 100 | Train Loss: 0.8215 | Val Loss: 0.6966\n",
      "Epoch 150 | Train Loss: 0.7853 | Val Loss: 0.6633\n",
      "Epoch 200 | Train Loss: 0.7561 | Val Loss: 0.6358\n",
      "Epoch 250 | Train Loss: 0.7295 | Val Loss: 0.6103\n",
      "Epoch 300 | Train Loss: 0.7015 | Val Loss: 0.5842\n",
      "Epoch 350 | Train Loss: 0.6719 | Val Loss: 0.5574\n",
      "Epoch 400 | Train Loss: 0.6412 | Val Loss: 0.5283\n",
      "Epoch 450 | Train Loss: 0.6028 | Val Loss: 0.4987\n",
      "Epoch 500 | Train Loss: 0.5632 | Val Loss: 0.4718\n"
     ]
    }
   ],
   "source": [
    "clf_history = NN_clf.fit(\n",
    "    X_train,\n",
    "    y_train,\n",
    "    X_valid,\n",
    "    y_valid,\n",
    "    n_iters=500\n",
    ")"
   ]
  },
  {
   "cell_type": "markdown",
   "id": "d1205cb7-1469-42bd-b3b5-2a660dc5608c",
   "metadata": {},
   "source": [
    "### Evaluation"
   ]
  },
  {
   "cell_type": "code",
   "execution_count": 205,
   "id": "41d83bd0-7583-4bfd-bafa-81823f00296f",
   "metadata": {},
   "outputs": [
    {
     "data": {
      "image/png": "[encoded data removed]",
      "text/plain": [
       "<Figure size 640x480 with 1 Axes>"
      ]
     },
     "metadata": {},
     "output_type": "display_data"
    }
   ],
   "source": [
    "plot_training_history(clf_history)"
   ]
  },
  {
   "cell_type": "code",
   "execution_count": 210,
   "id": "574960f2-a8f4-442c-aab6-f24a2328ef5e",
   "metadata": {},
   "outputs": [
    {
     "data": {
      "text/plain": [
       "((array([1, 0, 2, 2, 0, 1, 0, 2, 2, 2, 0, 2, 2, 0, 0, 2, 1, 2, 2, 2, 1, 0,\n",
       "         2, 1, 0, 1, 2, 1, 0, 1]),\n",
       "  array([1, 0, 2, 2, 0, 1, 0, 2, 2, 2, 0, 2, 2, 0, 0, 2, 1, 2, 2, 2, 1, 0,\n",
       "         2, 1, 0, 1, 2, 1, 0, 1])),\n",
       " np.float64(1.1333333018471444e-09))"
      ]
     },
     "execution_count": 210,
     "metadata": {},
     "output_type": "execute_result"
    }
   ],
   "source": [
    "y_preds = NN_clf.predict(X_valid)\n",
    "y_preds_lbl = np.argmax(y_preds, axis=1)\n",
    "y_valid_lbl = np.argmax(y_valid, axis=1)\n",
    "_ = y_preds_lbl, y_valid_lbl\n",
    "_, SparseCategoricalCrossEntropy()(*_)"
   ]
  },
  {
   "cell_type": "code",
   "execution_count": 212,
   "id": "b768ad58-0d08-4df4-b592-86dbea808a0f",
   "metadata": {},
   "outputs": [
    {
     "data": {
      "text/plain": [
       "1.0"
      ]
     },
     "execution_count": 212,
     "metadata": {},
     "output_type": "execute_result"
    }
   ],
   "source": [
    "accuracy_score(y_preds_lbl, y_valid_lbl)"
   ]
  },
  {
   "cell_type": "code",
   "execution_count": 213,
   "id": "ba242ff2-13de-4758-aea3-faf1ce872aa2",
   "metadata": {},
   "outputs": [
    {
     "name": "stdout",
     "output_type": "stream",
     "text": [
      "              precision    recall  f1-score   support\n",
      "\n",
      "           0       1.00      1.00      1.00         9\n",
      "           1       1.00      1.00      1.00         8\n",
      "           2       1.00      1.00      1.00        13\n",
      "\n",
      "    accuracy                           1.00        30\n",
      "   macro avg       1.00      1.00      1.00        30\n",
      "weighted avg       1.00      1.00      1.00        30\n",
      "\n"
     ]
    }
   ],
   "source": [
    "print(classification_report(y_preds_lbl, y_valid_lbl))"
   ]
  },
  {
   "cell_type": "code",
   "execution_count": 216,
   "id": "d265712e-6418-4265-9eaf-af295c40a32d",
   "metadata": {},
   "outputs": [
    {
     "data": {
      "text/plain": [
       "array([[ 9,  0,  0],\n",
       "       [ 0,  8,  0],\n",
       "       [ 0,  0, 13]])"
      ]
     },
     "execution_count": 216,
     "metadata": {},
     "output_type": "execute_result"
    }
   ],
   "source": [
    "cf = confusion_matrix(y_preds_lbl, y_valid_lbl)\n",
    "cf"
   ]
  },
  {
   "cell_type": "code",
   "execution_count": 230,
   "id": "7109ec73-26b2-437f-aa96-e3fb904b06ff",
   "metadata": {},
   "outputs": [
    {
     "data": {
      "image/png": "[encoded data removed]",
      "text/plain": [
       "<Figure size 640x480 with 2 Axes>"
      ]
     },
     "metadata": {},
     "output_type": "display_data"
    }
   ],
   "source": [
    "ConfusionMatrixDisplay(cf).plot(cmap=\"Blues\")\n",
    "plt.title(\"Custom NN - Iris Dataset\")\n",
    "plt.tight_layout()\n",
    "plt.show()"
   ]
  },
  {
   "cell_type": "code",
   "execution_count": null,
   "id": "cedc8e2d-1f66-4706-bba0-d97b1fe5b555",
   "metadata": {},
   "outputs": [],
   "source": []
  }
 ],
 "metadata": {
  "kernelspec": {
   "display_name": "Python (Torch)",
   "language": "python",
   "name": "torch"
  },
  "language_info": {
   "codemirror_mode": {
    "name": "ipython",
    "version": 3
   },
   "file_extension": ".py",
   "mimetype": "text/x-python",
   "name": "python",
   "nbconvert_exporter": "python",
   "pygments_lexer": "ipython3",
   "version": "3.10.16"
  }
 },
 "nbformat": 4,
 "nbformat_minor": 5
}
