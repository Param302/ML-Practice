{
 "cells": [
  {
   "cell_type": "markdown",
   "id": "a9cd46b6-6cb1-44bb-9732-6800bcc22d5b",
   "metadata": {},
   "source": [
    "# Hindi MNIST CNN\n",
    "- Dataset: [kaggle](https://www.kaggle.com/datasets/imbikramsaha/hindi-mnist/data)\n",
    "- Model: Custom CNN Arch"
   ]
  },
  {
   "cell_type": "markdown",
   "id": "3755f15e-8647-47dd-a966-8030988384de",
   "metadata": {},
   "source": [
    "## Import required libraries"
   ]
  },
  {
   "cell_type": "code",
   "execution_count": 1,
   "id": "b84623b6-fec3-4f20-9e3a-5edc705e74c5",
   "metadata": {},
   "outputs": [],
   "source": [
    "import os\n",
    "import numpy as np\n",
    "from tqdm import tqdm\n",
    "import matplotlib.pyplot as plt\n",
    "\n",
    "import torch\n",
    "import torch.nn as nn\n",
    "from torchinfo import summary\n",
    "from torch.utils.data import DataLoader\n",
    "from torchvision import datasets, transforms"
   ]
  },
  {
   "cell_type": "code",
   "execution_count": 2,
   "id": "057c282a-9cf6-4293-a88d-07cdf5342d57",
   "metadata": {},
   "outputs": [
    {
     "data": {
      "text/plain": [
       "device(type='cuda', index=0)"
      ]
     },
     "execution_count": 2,
     "metadata": {},
     "output_type": "execute_result"
    }
   ],
   "source": [
    "%matplotlib inline\n",
    "device = torch.device(\"cuda:0\")\n",
    "device"
   ]
  },
  {
   "cell_type": "markdown",
   "id": "f5775403-9bfb-4af2-bcd2-7b9935705098",
   "metadata": {},
   "source": [
    "## Load Data"
   ]
  },
  {
   "cell_type": "code",
   "execution_count": 2,
   "id": "268b462f-261e-4966-bc8b-a236d66b4c91",
   "metadata": {},
   "outputs": [
    {
     "data": {
      "text/plain": [
       "['test', 'train', 'valid']"
      ]
     },
     "execution_count": 2,
     "metadata": {},
     "output_type": "execute_result"
    }
   ],
   "source": [
    "DATASET_PATH = \"../Datasets/Hindi-MNIST/\"\n",
    "os.listdir(DATASET_PATH)"
   ]
  },
  {
   "cell_type": "markdown",
   "id": "1deb82b0-0011-4d00-a82e-2e13a24a7d12",
   "metadata": {},
   "source": [
    "### Split Test to Valid (90%) - Test (10%)"
   ]
  },
  {
   "cell_type": "code",
   "execution_count": 3,
   "id": "4395a911-5486-4e8e-8a7d-c5529123a0d6",
   "metadata": {},
   "outputs": [],
   "source": [
    "import shutil\n",
    "import random\n",
    "from pathlib import Path"
   ]
  },
  {
   "cell_type": "code",
   "execution_count": 4,
   "id": "a3cf567e-67ae-4d9b-8fb7-27eeecf66b03",
   "metadata": {},
   "outputs": [],
   "source": [
    "def split_test_to_valid_test(test_dir, valid_dir, split_ratio=0.1, seed=37):\n",
    "    random.seed(seed)\n",
    "    valid_dir, test_dir = Path(valid_dir), Path(test_dir)\n",
    "    valid_dir.mkdir(exist_ok=True)\n",
    "\n",
    "    for class_folder in test_dir.iterdir():\n",
    "        if not class_folder.is_dir():\n",
    "            continue\n",
    "        class_name = class_folder.name\n",
    "        images = list(class_folder.glob(\"*.png\"))\n",
    "        random.shuffle(images)\n",
    "\n",
    "        n_valid = int(len(images) * split_ratio)\n",
    "        test_images = images[:n_valid]\n",
    "        valid_images = images[n_valid:]\n",
    "\n",
    "        (valid_dir / class_name).mkdir(parents=True, exist_ok=True)\n",
    "\n",
    "        for img in valid_images:\n",
    "            shutil.move(str(img), valid_dir / class_name / img.name)\n",
    "    return len(test_images), len(valid_images)"
   ]
  },
  {
   "cell_type": "code",
   "execution_count": 5,
   "id": "04452e91-f98a-4f89-a618-2cc6d58474bd",
   "metadata": {},
   "outputs": [],
   "source": [
    "# split_test_to_valid_test(\n",
    "#     test_dir=DATASET_PATH+\"test\",\n",
    "#     valid_dir=DATASET_PATH+\"valid\",\n",
    "# )"
   ]
  },
  {
   "cell_type": "markdown",
   "id": "1797ceec-044a-4906-bfa0-d1886373ba54",
   "metadata": {},
   "source": [
    "### Loading data"
   ]
  },
  {
   "cell_type": "code",
   "execution_count": 6,
   "id": "f56e3b0a-6c3e-4cb1-a50c-16e99cf44ac0",
   "metadata": {},
   "outputs": [
    {
     "name": "stdout",
     "output_type": "stream",
     "text": [
      "Train size: 17000\n",
      "Valid size: 2700\n",
      "Test size: 300\n",
      "Classes: ['0', '1', '2', '3', '4', '5', '6', '7', '8', '9']\n"
     ]
    }
   ],
   "source": [
    "transformer = transforms.Compose([\n",
    "    transforms.Grayscale(num_output_channels=1),\n",
    "    transforms.ToTensor(),\n",
    "    transforms.Normalize((0.5,), (0.5,))\n",
    "])\n",
    "\n",
    "train_data = datasets.ImageFolder(root=DATASET_PATH+\"train\", transform=transformer)\n",
    "valid_data = datasets.ImageFolder(root=DATASET_PATH+\"valid\", transform=transformer)\n",
    "test_data = datasets.ImageFolder(root=DATASET_PATH+\"test\", transform=transformer)\n",
    "\n",
    "dataloader_params = {\n",
    "    \"batch_size\": 32,\n",
    "    \"shuffle\": True,\n",
    "    \"pin_memory\": True,\n",
    "    \"num_workers\": 4\n",
    "}\n",
    "\n",
    "train_loader = DataLoader(train_data, **dataloader_params)\n",
    "valid_loader = DataLoader(valid_data, **dataloader_params)\n",
    "test_loader = DataLoader(test_data, **dataloader_params)\n",
    "\n",
    "print(f\"Train size: {len(train_data)}\")\n",
    "print(f\"Valid size: {len(valid_data)}\")\n",
    "print(f\"Test size: {len(test_data)}\")\n",
    "print(f\"Classes: {train_data.classes}\")"
   ]
  },
  {
   "cell_type": "markdown",
   "id": "3e85f9a1-e720-42db-957d-7b37510c53e7",
   "metadata": {},
   "source": [
    "## Exploratory Data Analysis (EDA)"
   ]
  },
  {
   "cell_type": "code",
   "execution_count": 7,
   "id": "a17528aa-69b5-453a-84ac-ed9d77a17d88",
   "metadata": {},
   "outputs": [
    {
     "name": "stdout",
     "output_type": "stream",
     "text": [
      "Class counts: [1700, 1700, 1700, 1700, 1700, 1700, 1700, 1700, 1700, 1700]\n"
     ]
    },
    {
     "data": {
      "image/png": "[encoded data removed]",
      "text/plain": [
       "<Figure size 640x480 with 1 Axes>"
      ]
     },
     "metadata": {},
     "output_type": "display_data"
    }
   ],
   "source": [
    "counts = [0]*10\n",
    "for _, label in train_data:\n",
    "    counts[label] += 1\n",
    "print(\"Class counts:\", counts)\n",
    "plt.bar(range(10), counts)\n",
    "plt.xlabel(\"Digit\")\n",
    "plt.ylabel(\"Count\")\n",
    "plt.title(\"Train Distribution\")\n",
    "plt.show()"
   ]
  },
  {
   "cell_type": "code",
   "execution_count": 8,
   "id": "7cc4eb76-1fa4-448f-a454-b87e82ee1ee0",
   "metadata": {},
   "outputs": [],
   "source": [
    "def get_one_sample_per_class(dataset):\n",
    "    num_classes = len(dataset.classes)\n",
    "    samples = {}\n",
    "    for img, lbl in dataset:\n",
    "        if lbl not in samples:\n",
    "            samples[lbl] = (img, lbl)\n",
    "        if len(samples) == num_classes:\n",
    "            break\n",
    "    return samples\n",
    "\n",
    "\n",
    "def show_samples_grid(samples, class_names, cols=10, figsize=(8, 4)):\n",
    "    fig, axes = plt.subplots(2, 5, figsize=figsize, sharex=True, sharey=True)\n",
    "    axes = axes.flatten()\n",
    "\n",
    "    for i, lbl in enumerate(sorted(samples)):\n",
    "        img, _ = samples[lbl]\n",
    "        img = img * 0.5 + 0.5  # unnormalize\n",
    "        axes[i].imshow(img.squeeze(), cmap=\"gray\")\n",
    "        axes[i].set_title(class_names[lbl])\n",
    "        # axes[i].axis(\"off\")\n",
    "\n",
    "    plt.tight_layout()\n",
    "    plt.show()"
   ]
  },
  {
   "cell_type": "code",
   "execution_count": 9,
   "id": "00043803-82d3-4011-a2f4-0582fce0749a",
   "metadata": {},
   "outputs": [
    {
     "data": {
      "image/png": "[encoded data removed]",
      "text/plain": [
       "<Figure size 800x400 with 10 Axes>"
      ]
     },
     "metadata": {},
     "output_type": "display_data"
    }
   ],
   "source": [
    "samples = get_one_sample_per_class(train_data)\n",
    "show_samples_grid(samples, train_data.classes)"
   ]
  },
  {
   "cell_type": "markdown",
   "id": "01180ea9-cca1-4f96-beea-a4c2a532af63",
   "metadata": {},
   "source": [
    "## Model"
   ]
  },
  {
   "cell_type": "markdown",
   "id": "8437684e-ae5c-41ef-b0ba-f4a96cf1b296",
   "metadata": {},
   "source": [
    "### CNN 1\n",
    "- 2 Convo layers followed by max pooling\n",
    "- 1 FC layer\n",
    "- 1 Dropout 0.5\n",
    "- 1 Output"
   ]
  },
  {
   "cell_type": "code",
   "execution_count": 10,
   "id": "4de6501f-889f-4911-bb24-95b6207477bd",
   "metadata": {},
   "outputs": [],
   "source": [
    "class SimpleCNN(nn.Module):\n",
    "    def __init__(self):\n",
    "        super().__init__()\n",
    "        self.net = nn.Sequential(\n",
    "            nn.Conv2d(1, 32, kernel_size=3, padding=0),   # out: 26×26\n",
    "            nn.ReLU(),\n",
    "            nn.MaxPool2d(kernel_size=2, stride=2),        # out: 13×13\n",
    "\n",
    "            nn.Conv2d(32, 64, kernel_size=3, padding=0),  # out: 11×11\n",
    "            nn.ReLU(),\n",
    "            nn.MaxPool2d(kernel_size=2, stride=2),        # out: 5×5\n",
    "\n",
    "            nn.Flatten(),\n",
    "            nn.Linear(64 * 6 * 6, 128),  # fix dimensions\n",
    "            nn.ReLU(),\n",
    "            nn.Dropout(0.5),\n",
    "            nn.Linear(128, 10),\n",
    "            nn.Softmax(dim=1)\n",
    "        )\n",
    "\n",
    "    def forward(self, x):\n",
    "        return self.net(x)\n"
   ]
  },
  {
   "cell_type": "markdown",
   "id": "6001371d-7b59-4b6c-af41-8435b651f29b",
   "metadata": {},
   "source": [
    "## Training & Evaluation"
   ]
  },
  {
   "cell_type": "markdown",
   "id": "4f3d227b-d353-4963-a48f-4406364ef565",
   "metadata": {},
   "source": [
    "### Trainer"
   ]
  },
  {
   "cell_type": "code",
   "execution_count": 11,
   "id": "0d29ab98-9298-4f20-a366-c6c6ccb5748d",
   "metadata": {},
   "outputs": [],
   "source": [
    "class Trainer:\n",
    "    def __init__(self, model, device, train_loader, val_loader, learning_rate):\n",
    "        self.model = model.to(device)\n",
    "        self.device = device\n",
    "        self.train_loader, self.val_loader = train_loader, val_loader\n",
    "        self.optimizer = torch.optim.Adam(self.model.parameters(), lr=learning_rate)\n",
    "        self.criterion = nn.CrossEntropyLoss()\n",
    "        self.train_m = len(self.train_loader.dataset)\n",
    "        self.val_m = len(self.val_loader.dataset)\n",
    "\n",
    "    \n",
    "    def train_epoch(self):\n",
    "        self.model.train()\n",
    "        total_loss, accuracy = 0, 0\n",
    "        for X, y in tqdm(self.train_loader, desc=\"Train\"):\n",
    "            X, y = X.to(self.device), y.to(self.device)\n",
    "            self.optimizer.zero_grad()\n",
    "            out = self.model(X)\n",
    "            loss = self.criterion(out, y)\n",
    "            loss.backward()\n",
    "            self.optimizer.step()\n",
    "\n",
    "            total_loss += loss.item() * X.size(0)\n",
    "            accuracy += (out.argmax(1) == y).sum().item()\n",
    "\n",
    "        return total_loss/self.train_m, accuracy/self.train_m\n",
    "\n",
    "\n",
    "    def valid_epoch(self):\n",
    "        self.model.eval()\n",
    "        total_loss, acc = 0, 0\n",
    "        with torch.no_grad():\n",
    "            for X, y in tqdm(self.val_loader, desc=\"Validate\"):\n",
    "                X, y = X.to(self.device), y.to(self.device)\n",
    "                out = self.model(X)\n",
    "                loss = self.criterion(out, y)\n",
    "\n",
    "                total_loss += loss.item() * X.size(0)\n",
    "                acc += (out.argmax(1) == y).sum().item()\n",
    "\n",
    "        return total_loss/self.val_m, acc/self.val_m"
   ]
  },
  {
   "cell_type": "markdown",
   "id": "cb9a1082-ea63-497e-82af-1b1013c0aa49",
   "metadata": {},
   "source": [
    "### Model Runner\n",
    "- to run the model on `n` iterations"
   ]
  },
  {
   "cell_type": "code",
   "execution_count": 12,
   "id": "30d76106-357d-4cea-8771-19900783a04d",
   "metadata": {},
   "outputs": [],
   "source": [
    "class ModelRunner:\n",
    "    def __init__(self, model, trainer, name=\"Model\"):\n",
    "        self.model = model\n",
    "        self.trainer = trainer\n",
    "        self.name = name\n",
    "        self.history = []\n",
    "\n",
    "    def run(self, epochs=5, verbose=True):\n",
    "        \"\"\"\n",
    "        Trains and validates the model for given number of epochs.\n",
    "        Stores history as (train_loss, train_acc, val_loss, val_acc) per epoch.\n",
    "        \"\"\"\n",
    "        for epoch in range(1, epochs + 1):\n",
    "            tr_loss, tr_acc = self.trainer.train_epoch()\n",
    "            val_loss, val_acc = self.trainer.valid_epoch()\n",
    "            self.history.append((tr_loss, tr_acc, val_loss, val_acc))\n",
    "            if verbose:\n",
    "                print(f\"{self.name:^10} | Epoch {epoch:>2}: \"\n",
    "                      f\"Train Acc: {tr_acc:.3f}, Val Acc: {val_acc:.3f}\")\n",
    "        return self.history"
   ]
  },
  {
   "cell_type": "markdown",
   "id": "539d04bb-7aea-44f5-845e-940afac6d3b6",
   "metadata": {},
   "source": [
    "### ModelTrainer"
   ]
  },
  {
   "cell_type": "code",
   "execution_count": null,
   "id": "d8fec105-444f-47e9-97cd-df6ccbb7a7d1",
   "metadata": {},
   "outputs": [],
   "source": [
    "class ModelTrainer:\n",
    "    def __init__(self, model, device, train_loader, val_loader, penalty, name=\"CNN\", *, learning_rate=1e-3):\n",
    "        self.device = device\n",
    "        self.model = model.to(device)\n",
    "        self.name = name\n",
    "        self.train_loader, self.val_loader = train_loader, val_loader\n",
    "        self.optimizer = torch.optim.Adam(model.parameters(), lr=learning_rate)\n",
    "        self.criterion = nn.CrossEntropyLoss()\n",
    "        self.history = []\n",
    "\n",
    "    def run_epoch(self, loader, train=True):\n",
    "        self.model.train() if train else self.model.eval()\n",
    "        total_loss, correct, total = 0, 0, 0\n",
    "\n",
    "        for X, y in tqdm(loader, desc=\"Train\" if train else \"Valid\"):\n",
    "            X, y = X.to(device), y.to(device)\n",
    "\n",
    "            if train:\n",
    "                self.optimizer.zero_grad()\n",
    "\n",
    "            with torch.set_grad_enabled(train):\n",
    "                out = self.model(X)\n",
    "                loss = self.criterion(out, y)\n",
    "\n",
    "                if train:\n",
    "                    loss.backward()\n",
    "                    self.optimizer.step()\n",
    "\n",
    "            total += y.size(0)\n",
    "            total_loss += loss.item() * y.size(0)\n",
    "            correct += (out.argmax(1) == y).sum().item()\n",
    "\n",
    "        return total_loss/total, correct/total\n",
    "\n",
    "    def _run(self, n_iter=5):\n",
    "        for epoch in range(1, n_iter+1):\n",
    "            tr_loss, tr_acc = self.run_epoch(self.train_loader, train=True)\n",
    "            val_loss, val_acc = self.run_epoch(self.val_loader, train=False)\n",
    "\n",
    "            self.history.append([tr_loss, tr_acc, val_loss, val_acc])\n",
    "            tqdm.write(\n",
    "                f\"[Epoch {epoch:02d}]\\t\"\n",
    "                f\"Train Loss: {tr_loss:.4f}, Acc: {tr_acc:.4f} | \"\n",
    "                f\"Valid Loss: {val_loss:.4f}, Acc: {val_acc:.4f}\"\n",
    "            )\n",
    "        return self.history\n",
    "\n",
    "    def __call__(self, n_iter=5):\n",
    "        return self._run(n_iter)"
   ]
  },
  {
   "cell_type": "markdown",
   "id": "722293d4-1d58-407e-bc59-cee192965de4",
   "metadata": {},
   "source": [
    "### Training"
   ]
  },
  {
   "cell_type": "code",
   "execution_count": 11,
   "id": "97103d67-02a6-4cba-b438-b825f4618788",
   "metadata": {},
   "outputs": [
    {
     "data": {
      "text/plain": [
       "=================================================================\n",
       "Layer (type:depth-idx)                   Param #\n",
       "=================================================================\n",
       "SimpleCNN                                --\n",
       "├─Sequential: 1-1                        --\n",
       "│    └─Conv2d: 2-1                       320\n",
       "│    └─ReLU: 2-2                         --\n",
       "│    └─MaxPool2d: 2-3                    --\n",
       "│    └─Conv2d: 2-4                       18,496\n",
       "│    └─ReLU: 2-5                         --\n",
       "│    └─MaxPool2d: 2-6                    --\n",
       "│    └─Flatten: 2-7                      --\n",
       "│    └─Linear: 2-8                       295,040\n",
       "│    └─ReLU: 2-9                         --\n",
       "│    └─Dropout: 2-10                     --\n",
       "│    └─Linear: 2-11                      1,290\n",
       "│    └─Softmax: 2-12                     --\n",
       "=================================================================\n",
       "Total params: 315,146\n",
       "Trainable params: 315,146\n",
       "Non-trainable params: 0\n",
       "================================================================="
      ]
     },
     "execution_count": 11,
     "metadata": {},
     "output_type": "execute_result"
    }
   ],
   "source": [
    "model = SimpleCNN().to(device)\n",
    "summary(model)"
   ]
  },
  {
   "cell_type": "code",
   "execution_count": 12,
   "id": "ea991a5b-f8fe-434c-b57b-bb5ff5bd7a36",
   "metadata": {},
   "outputs": [
    {
     "name": "stderr",
     "output_type": "stream",
     "text": [
      "Train: 100%|█████████████████████████████████████████████████████████████████████████| 532/532 [00:28<00:00, 18.73it/s]\n",
      "Validate: 100%|████████████████████████████████████████████████████████████████████████| 85/85 [00:25<00:00,  3.35it/s]\n"
     ]
    },
    {
     "name": "stdout",
     "output_type": "stream",
     "text": [
      "  Model    | Epoch  1: Train Acc: 0.780, Val Acc: 0.974\n"
     ]
    },
    {
     "name": "stderr",
     "output_type": "stream",
     "text": [
      "Train: 100%|█████████████████████████████████████████████████████████████████████████| 532/532 [00:27<00:00, 19.53it/s]\n",
      "Validate: 100%|████████████████████████████████████████████████████████████████████████| 85/85 [00:22<00:00,  3.71it/s]\n"
     ]
    },
    {
     "name": "stdout",
     "output_type": "stream",
     "text": [
      "  Model    | Epoch  2: Train Acc: 0.950, Val Acc: 0.985\n"
     ]
    },
    {
     "name": "stderr",
     "output_type": "stream",
     "text": [
      "Train: 100%|█████████████████████████████████████████████████████████████████████████| 532/532 [00:27<00:00, 19.50it/s]\n",
      "Validate: 100%|████████████████████████████████████████████████████████████████████████| 85/85 [00:22<00:00,  3.71it/s]\n"
     ]
    },
    {
     "name": "stdout",
     "output_type": "stream",
     "text": [
      "  Model    | Epoch  3: Train Acc: 0.963, Val Acc: 0.984\n"
     ]
    },
    {
     "name": "stderr",
     "output_type": "stream",
     "text": [
      "Train: 100%|█████████████████████████████████████████████████████████████████████████| 532/532 [00:28<00:00, 18.60it/s]\n",
      "Validate: 100%|████████████████████████████████████████████████████████████████████████| 85/85 [00:23<00:00,  3.69it/s]\n"
     ]
    },
    {
     "name": "stdout",
     "output_type": "stream",
     "text": [
      "  Model    | Epoch  4: Train Acc: 0.971, Val Acc: 0.986\n"
     ]
    },
    {
     "name": "stderr",
     "output_type": "stream",
     "text": [
      "Train: 100%|█████████████████████████████████████████████████████████████████████████| 532/532 [00:27<00:00, 19.59it/s]\n",
      "Validate: 100%|████████████████████████████████████████████████████████████████████████| 85/85 [00:23<00:00,  3.59it/s]"
     ]
    },
    {
     "name": "stdout",
     "output_type": "stream",
     "text": [
      "  Model    | Epoch  5: Train Acc: 0.974, Val Acc: 0.994\n"
     ]
    },
    {
     "name": "stderr",
     "output_type": "stream",
     "text": [
      "\n"
     ]
    }
   ],
   "source": [
    "trainer = Trainer(model, device, train_loader, valid_loader, 1e-3)\n",
    "runner = ModelRunner(\n",
    "    model=model,\n",
    "    trainer=trainer\n",
    ")\n",
    "history = runner.run(5)"
   ]
  },
  {
   "cell_type": "code",
   "execution_count": 13,
   "id": "435b1f86-4539-471e-856a-6a7f001f54c5",
   "metadata": {
    "scrolled": true
   },
   "outputs": [
    {
     "data": {
      "text/plain": [
       "[(1.6880346602271585,\n",
       "  0.7799411764705882,\n",
       "  1.4882820205335263,\n",
       "  0.9740740740740741),\n",
       " (1.5144640302658081,\n",
       "  0.9500588235294117,\n",
       "  1.4772272938269155,\n",
       "  0.9851851851851852),\n",
       " (1.4997478525498333,\n",
       "  0.9628235294117647,\n",
       "  1.4768897805390535,\n",
       "  0.9837037037037037),\n",
       " (1.4921587908688714,\n",
       "  0.9707058823529412,\n",
       "  1.4755166885587905,\n",
       "  0.9859259259259259),\n",
       " (1.4875772843080408,\n",
       "  0.9744117647058823,\n",
       "  1.4681140608257717,\n",
       "  0.9937037037037038)]"
      ]
     },
     "execution_count": 13,
     "metadata": {},
     "output_type": "execute_result"
    }
   ],
   "source": [
    "history"
   ]
  },
  {
   "cell_type": "markdown",
   "id": "786bad22-2d0f-4b01-b49d-ae434be6eda5",
   "metadata": {},
   "source": [
    "### Evaluation"
   ]
  },
  {
   "cell_type": "code",
   "execution_count": 14,
   "id": "1e75e9f5-96e8-47ef-87c6-01c7b515c5c3",
   "metadata": {},
   "outputs": [],
   "source": [
    "def plot_training_history(history, title=\"Training History\"):\n",
    "    \"\"\"\n",
    "    history: List of tuples (train_loss, train_acc, val_loss, val_acc)\n",
    "    \"\"\"\n",
    "    train_loss = [h[0] for h in history]\n",
    "    train_acc = [h[1] for h in history]\n",
    "    val_loss = [h[2] for h in history]\n",
    "    val_acc = [h[3] for h in history]\n",
    "    epochs = range(1, len(history) + 1)\n",
    "\n",
    "    fig, axs = plt.subplots(1, 2, figsize=(12, 5))\n",
    "\n",
    "    # Plot Loss\n",
    "    axs[0].plot(epochs, train_loss, label=\"Train Loss\", marker='o')\n",
    "    axs[0].plot(epochs, val_loss,   label=\"Val Loss\", marker='s')\n",
    "    axs[0].set_title(\"Loss Over Epochs\")\n",
    "    axs[0].set_xlabel(\"Epoch\")\n",
    "    axs[0].set_ylabel(\"Loss\")\n",
    "    axs[0].legend()\n",
    "    axs[0].grid(True)\n",
    "\n",
    "    # Plot Accuracy\n",
    "    axs[1].plot(epochs, train_acc, label=\"Train Acc\", marker='o')\n",
    "    axs[1].plot(epochs, val_acc,   label=\"Val Acc\", marker='s')\n",
    "    axs[1].set_title(\"Accuracy Over Epochs\")\n",
    "    axs[1].set_xlabel(\"Epoch\")\n",
    "    axs[1].set_ylabel(\"Accuracy\")\n",
    "    axs[1].legend()\n",
    "    axs[1].grid(True)\n",
    "\n",
    "    fig.suptitle(title)\n",
    "    plt.tight_layout()\n",
    "    plt.show()"
   ]
  },
  {
   "cell_type": "code",
   "execution_count": 15,
   "id": "047049cb-67c7-4209-821b-4c639df29412",
   "metadata": {},
   "outputs": [
    {
     "data": {
      "image/png": "[encoded data removed]",
      "text/plain": [
       "<Figure size 1200x500 with 2 Axes>"
      ]
     },
     "metadata": {},
     "output_type": "display_data"
    }
   ],
   "source": [
    "plot_training_history(history, title=\"SimpleCNN on Hindi-MNIST\")"
   ]
  },
  {
   "cell_type": "markdown",
   "id": "afa915d3-4f30-4d3a-a22e-94fb1817600d",
   "metadata": {},
   "source": [
    "## Predictions"
   ]
  },
  {
   "cell_type": "code",
   "execution_count": 16,
   "id": "d9160c82-199a-42b7-9827-d0f975009790",
   "metadata": {},
   "outputs": [],
   "source": [
    "def get_predictions(model, dataloader, device):\n",
    "    model.eval()\n",
    "    preds, labels = [], []\n",
    "    with torch.no_grad():\n",
    "        for X, y in dataloader:\n",
    "            X = X.to(device)\n",
    "            out = model(X)\n",
    "            pred = out.argmax(dim=1)\n",
    "            preds.extend(pred.cpu().numpy())\n",
    "            labels.extend(y.numpy())\n",
    "    return preds, labels"
   ]
  },
  {
   "cell_type": "code",
   "execution_count": 19,
   "id": "b820559e-d465-4729-839b-de0dc0d780fa",
   "metadata": {},
   "outputs": [],
   "source": [
    "y_preds, y_true = get_predictions(model, test_loader, device)"
   ]
  },
  {
   "cell_type": "code",
   "execution_count": 20,
   "id": "d4d410be-50e3-40ab-aefb-34785923c53b",
   "metadata": {},
   "outputs": [],
   "source": [
    "def show_predictions(images, preds, labels, class_names, n=10):\n",
    "    plt.figure(figsize=(15, 3))\n",
    "    for i in range(n):\n",
    "        img = images[i].squeeze().numpy() * 0.5 + 0.5  # unnormalize\n",
    "        plt.subplot(1, n, i+1)\n",
    "        plt.imshow(img, cmap='gray')\n",
    "        plt.title(f\"Pred: {class_names[preds[i]]}\\nTrue: {class_names[labels[i]]}\")\n",
    "        plt.axis('off')\n",
    "    plt.tight_layout()\n",
    "    plt.show()\n"
   ]
  },
  {
   "cell_type": "code",
   "execution_count": 22,
   "id": "a0534c9b-648d-4f8e-9d62-4c42112539a5",
   "metadata": {},
   "outputs": [
    {
     "data": {
      "image/png": "[encoded data removed]",
      "text/plain": [
       "<Figure size 1500x300 with 10 Axes>"
      ]
     },
     "metadata": {},
     "output_type": "display_data"
    }
   ],
   "source": [
    "images, labels = next(iter(test_loader))\n",
    "images = images.to(device)\n",
    "preds = model(images).argmax(dim=1).cpu().numpy()\n",
    "show_predictions(images.cpu(), preds, labels, test_data.classes)"
   ]
  },
  {
   "cell_type": "code",
   "execution_count": 23,
   "id": "037b855b-1293-4ef0-9d10-6b2fb1dd6f92",
   "metadata": {},
   "outputs": [
    {
     "name": "stdout",
     "output_type": "stream",
     "text": [
      "Accuracy: 0.9966666666666667\n",
      "[[30  0  0  0  0  0  0  0  0  0]\n",
      " [ 0 30  0  0  0  0  0  0  0  0]\n",
      " [ 0  0 30  0  0  0  0  0  0  0]\n",
      " [ 0  0  0 30  0  0  0  0  0  0]\n",
      " [ 0  0  0  0 30  0  0  0  0  0]\n",
      " [ 0  0  0  0  0 30  0  0  0  0]\n",
      " [ 0  0  0  0  0  0 30  0  0  0]\n",
      " [ 0  1  0  0  0  0  0 29  0  0]\n",
      " [ 0  0  0  0  0  0  0  0 30  0]\n",
      " [ 0  0  0  0  0  0  0  0  0 30]]\n",
      "              precision    recall  f1-score   support\n",
      "\n",
      "           0       1.00      1.00      1.00        30\n",
      "           1       0.97      1.00      0.98        30\n",
      "           2       1.00      1.00      1.00        30\n",
      "           3       1.00      1.00      1.00        30\n",
      "           4       1.00      1.00      1.00        30\n",
      "           5       1.00      1.00      1.00        30\n",
      "           6       1.00      1.00      1.00        30\n",
      "           7       1.00      0.97      0.98        30\n",
      "           8       1.00      1.00      1.00        30\n",
      "           9       1.00      1.00      1.00        30\n",
      "\n",
      "    accuracy                           1.00       300\n",
      "   macro avg       1.00      1.00      1.00       300\n",
      "weighted avg       1.00      1.00      1.00       300\n",
      "\n"
     ]
    }
   ],
   "source": [
    "from sklearn.metrics import accuracy_score, confusion_matrix, classification_report\n",
    "\n",
    "print(\"Accuracy:\", accuracy_score(y_true, y_preds))\n",
    "print(confusion_matrix(y_true, y_preds))\n",
    "print(classification_report(y_true, y_preds, target_names=test_data.classes))"
   ]
  },
  {
   "cell_type": "markdown",
   "id": "60f4c709-4510-4aef-9900-6c8027731dfb",
   "metadata": {},
   "source": [
    "## Save the model"
   ]
  },
  {
   "cell_type": "code",
   "execution_count": 25,
   "id": "012500de-0560-49c9-a9f2-0407f1e7a913",
   "metadata": {},
   "outputs": [],
   "source": [
    "MODEL_PATH = \"../Models/Hindi-MNIST/\"\n",
    "# os.mkdir(MODEL_PATH)\n",
    "torch.save(model, MODEL_PATH+\"SimpleCNN_test_epoch5.pt\")"
   ]
  }
 ],
 "metadata": {
  "kernelspec": {
   "display_name": "Python (Torch)",
   "language": "python",
   "name": "torch"
  },
  "language_info": {
   "codemirror_mode": {
    "name": "ipython",
    "version": 3
   },
   "file_extension": ".py",
   "mimetype": "text/x-python",
   "name": "python",
   "nbconvert_exporter": "python",
   "pygments_lexer": "ipython3",
   "version": "3.10.16"
  }
 },
 "nbformat": 4,
 "nbformat_minor": 5
}
