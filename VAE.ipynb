{
 "cells": [
  {
   "cell_type": "markdown",
   "id": "a7c888f3-ac38-498e-a460-3b48f88f7721",
   "metadata": {},
   "source": [
    "# Variational Auto Encoder"
   ]
  },
  {
   "cell_type": "code",
   "execution_count": 1,
   "id": "5dff3576-7443-41b9-9348-bf4ee867356e",
   "metadata": {},
   "outputs": [],
   "source": [
    "import torch\n",
    "import torch.nn as nn\n",
    "import torch.nn.functional as F"
   ]
  },
  {
   "cell_type": "code",
   "execution_count": 3,
   "id": "e76034fa-7e11-4f86-9894-185a6c0ca56c",
   "metadata": {},
   "outputs": [],
   "source": [
    "class VAE(nn.Module):\n",
    "    def __init__(self, latent_dim=20):\n",
    "        super(VAE, self).__init__()\n",
    "        # Encoder: conv layers or linear layers ending in hidden size\n",
    "        self.fc1 = nn.Linear(784, 400)\n",
    "        self.fc_mu = nn.Linear(400, latent_dim)\n",
    "        self.fc_logvar = nn.Linear(400, latent_dim)\n",
    "        # Decoder: linear layers from latent to output\n",
    "        self.fc_dec1 = nn.Linear(latent_dim, 400)\n",
    "        self.fc_dec2 = nn.Linear(400, 784)\n",
    "\n",
    "    def encode(self, x):\n",
    "        h = F.relu(self.fc1(x))\n",
    "        mu = self.fc_mu(h)\n",
    "        logvar = self.fc_logvar(h)\n",
    "        return mu, logvar\n",
    "\n",
    "    def reparameterize(self, mu, logvar):\n",
    "        std = torch.exp(0.5 * logvar)      # standard deviation\n",
    "        eps = torch.randn_like(std)        # sample epsilon ~ N(0,1)\n",
    "        return mu + eps * std              # z ~ N(mu, sigma^2)\n",
    "\n",
    "    def decode(self, z):\n",
    "        h = F.relu(self.fc_dec1(z))\n",
    "        x_recon = torch.sigmoid(self.fc_dec2(h))  # for Bernoulli output\n",
    "        return x_recon\n",
    "\n",
    "    def forward(self, x):\n",
    "        mu, logvar = self.encode(x.view(-1, 784))\n",
    "        z = self.reparameterize(mu, logvar)\n",
    "        x_recon = self.decode(z)\n",
    "        return x_recon, mu, logvar"
   ]
  },
  {
   "cell_type": "code",
   "execution_count": null,
   "id": "387262a4-5021-43f6-ac22-0a9d1ea9014e",
   "metadata": {},
   "outputs": [],
   "source": [
    "model = VAE(latent_dim=20)\n",
    "optimizer = torch.optim.Adam(model.parameters(), lr=1e-3)\n",
    "\n",
    "for batch in data_loader:    # iterate minibatches\n",
    "    x = batch.to(device)     # x shape: [batch, 1, 28, 28]\n",
    "    optimizer.zero_grad()\n",
    "    x_recon, mu, logvar = model(x)\n",
    "    # Reconstruction loss (Bernoulli cross-entropy per pixel)\n",
    "    recon_loss = F.binary_cross_entropy(x_recon, x.view(-1,784), reduction='sum')\n",
    "    # KL divergence loss for q(z|x) vs p(z)=N(0,1)\n",
    "    kl_loss = -0.5 * torch.sum(1 + logvar - mu.pow(2) - logvar.exp())\n",
    "    loss = recon_loss + kl_loss\n",
    "    loss.backward()\n",
    "    optimizer.step()\n"
   ]
  }
 ],
 "metadata": {
  "kernelspec": {
   "display_name": "Python (Torch)",
   "language": "python",
   "name": "torch"
  },
  "language_info": {
   "codemirror_mode": {
    "name": "ipython",
    "version": 3
   },
   "file_extension": ".py",
   "mimetype": "text/x-python",
   "name": "python",
   "nbconvert_exporter": "python",
   "pygments_lexer": "ipython3",
   "version": "3.10.16"
  }
 },
 "nbformat": 4,
 "nbformat_minor": 5
}
